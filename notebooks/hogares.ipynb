{
 "cells": [
  {
   "cell_type": "markdown",
   "id": "27b25b61",
   "metadata": {},
   "source": [
    "Desarrollo del archivo Hogares"
   ]
  },
  {
   "cell_type": "code",
   "execution_count": 1,
   "id": "e85b29bd",
   "metadata": {
    "execution": {
     "iopub.execute_input": "2025-05-02T21:58:37.636509Z",
     "iopub.status.busy": "2025-05-02T21:58:37.636376Z",
     "iopub.status.idle": "2025-05-02T21:58:37.638840Z",
     "shell.execute_reply": "2025-05-02T21:58:37.638506Z"
    }
   },
   "outputs": [
    {
     "name": "stdout",
     "output_type": "stream",
     "text": [
      "✅ Se cargaron 66037 registros de hogares.\n",
      "✅ Archivo HogaresTotal guardado en: C:\\Users\\joaco\\OneDrive\\Desktop\\code\\utils\\HogaresTotal.csv\n"
     ]
    }
   ],
   "source": [
    "import sys\n",
    "import os\n",
    "\n",
    "#Definicion de rutas\n",
    "sys.path.append(os.path.abspath(\"../src\"))\n",
    "sys.path.append(os.path.abspath(\"../src/funciones\"))\n",
    "sys.path.append(os.path.abspath(\"../utils\"))\n",
    "\n",
    "#Importacion de funciones propias\n",
    "import DataSet as ds\n",
    "from constantes import DATA_PATH\n",
    "from tipo_hogar import key_tipo_hogar\n",
    "from materialhogares import material_techumbre\n",
    "from densidad_hogar import key_densidad_hogar\n",
    "from cond_hab import condicion_de_habitabilidad\n",
    "\n",
    "#Creacion y limpieza de DataSet\n",
    "hogares = ds.dataset_indi_hogares(None,DATA_PATH)\n",
    "for d in hogares:\n",
    "    if '' in d:\n",
    "        del d['']\n",
    "    for clave, valor in d.items():\n",
    "        # si es string y está vacío o sólo espacios…\n",
    "        if isinstance(valor, str) and valor.strip() == '':\n",
    "            d[clave] = 'sin información'\n",
    "\n",
    "#Llamado de funciones\n",
    "key_tipo_hogar(hogares)\n",
    "material_techumbre(hogares)\n",
    "key_densidad_hogar(hogares)\n",
    "condicion_de_habitabilidad(hogares)\n",
    "#Guardado en csv del archivo Hogares\n",
    "ds.guardar_como_csv ('HogaresTotal',hogares)"
   ]
  }
 ],
 "metadata": {
  "kernelspec": {
   "display_name": "Python 3",
   "language": "python",
   "name": "python3"
  },
  "language_info": {
   "codemirror_mode": {
    "name": "ipython",
    "version": 3
   },
   "file_extension": ".py",
   "mimetype": "text/x-python",
   "name": "python",
   "nbconvert_exporter": "python",
   "pygments_lexer": "ipython3",
   "version": "3.12.10"
  }
 },
 "nbformat": 4,
 "nbformat_minor": 5
}
