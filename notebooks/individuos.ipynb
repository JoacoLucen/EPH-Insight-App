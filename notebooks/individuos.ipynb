{
 "cells": [
  {
   "cell_type": "markdown",
   "id": "b3b2717c",
   "metadata": {},
   "source": [
    "Desarrollo del archivo Individuos"
   ]
  },
  {
   "cell_type": "code",
   "execution_count": 1,
   "id": "5f2b10cf",
   "metadata": {
    "execution": {
     "iopub.execute_input": "2025-05-02T21:58:32.938119Z",
     "iopub.status.busy": "2025-05-02T21:58:32.937854Z",
     "iopub.status.idle": "2025-05-02T21:58:32.940382Z",
     "shell.execute_reply": "2025-05-02T21:58:32.940090Z"
    }
   },
   "outputs": [
    {
     "name": "stdout",
     "output_type": "stream",
     "text": [
      "✅ Se cargaron 190360 registros de individuos.\n",
      "✅ Archivo IndividuosTotal guardado en: C:\\Users\\joaco\\OneDrive\\Desktop\\code\\utils\\IndividuosTotal.csv\n"
     ]
    }
   ],
   "source": [
    "import sys\n",
    "import os\n",
    "\n",
    "#Definicion de rutas\n",
    "sys.path.append(os.path.abspath('../src'))\n",
    "sys.path.append(os.path.abspath(\"../src/funciones\"))\n",
    "sys.path.append(os.path.abspath(\"../utils\"))\n",
    "\n",
    "#Importacion de funciones propias\n",
    "import DataSet as ds\n",
    "from constantes import DATA_PATH\n",
    "from generos_str import int_to_str \n",
    "from nivel_ed import key_nivel_ed_str\n",
    "from cond_lab import condicion_laboral\n",
    "from univ_num import add_uni\n",
    "\n",
    "#Creacion y limpieza de DataSet\n",
    "individuos = ds.dataset_indi_hogares(DATA_PATH,None)# El segundo parámetro es None porque no estamos cargando hogares en este caso\n",
    "for d in individuos:\n",
    "    if '' in d:\n",
    "        del d['']\n",
    "    for clave, valor in d.items():\n",
    "        # si es string y está vacío o sólo espacios…\n",
    "        if isinstance(valor, str) and valor.strip() == '':\n",
    "            d[clave] = 'sin información'\n",
    "\n",
    "#Llamado de funciones\n",
    "int_to_str(individuos)\n",
    "key_nivel_ed_str(individuos)\n",
    "condicion_laboral(individuos)\n",
    "add_uni(individuos)\n",
    "ds.guardar_como_csv ('IndividuosTotal',individuos)"
   ]
  }
 ],
 "metadata": {
  "kernelspec": {
   "display_name": "venv",
   "language": "python",
   "name": "python3"
  },
  "language_info": {
   "codemirror_mode": {
    "name": "ipython",
    "version": 3
   },
   "file_extension": ".py",
   "mimetype": "text/x-python",
   "name": "python",
   "nbconvert_exporter": "python",
   "pygments_lexer": "ipython3",
   "version": "3.12.10"
  }
 },
 "nbformat": 4,
 "nbformat_minor": 5
}
