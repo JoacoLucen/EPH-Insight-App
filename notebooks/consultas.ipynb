{
 "cells": [
  {
   "cell_type": "markdown",
   "id": "94be51ed",
   "metadata": {},
   "source": [
    "Definicion del path"
   ]
  },
  {
   "cell_type": "code",
   "execution_count": null,
   "id": "8848a408",
   "metadata": {},
   "outputs": [],
   "source": [
    "import sys\n",
    "import os\n",
    "import importlib\n",
    "\n",
    "sys.path.append(os.path.abspath(\"../src/consultas\"))\n",
    "sys.path.append(os.path.abspath(\"../src/funciones\"))"
   ]
  },
  {
   "cell_type": "markdown",
   "id": "c46b733e",
   "metadata": {},
   "source": [
    "1. Se informa de cada ultimo trimestre registrado en cada año almacenado el porcentaje de personas mayores a 6 años capaces e incapaces de leer y\n",
    "escribir.\n"
   ]
  },
  {
   "cell_type": "code",
   "execution_count": null,
   "id": "3333763f",
   "metadata": {},
   "outputs": [],
   "source": [
    "from consulta_leer_escribir import calcular_porcentajes_lectura\n",
    "años, porcentajes_sabe, porcentajes_nosabe = calcular_porcentajes_lectura()\n",
    "\n",
    "for i in range(len(años)):\n",
    "    año = años[i]\n",
    "    sabe = porcentajes_sabe[i]\n",
    "    no_sabe = porcentajes_nosabe[i]\n",
    "\n",
    "    print(f'Año: {año}')\n",
    "    print(f'  Capaces de leer: {sabe}%')\n",
    "    print(f'  Incapaces de leer: {no_sabe}%')\n",
    "    print('-' * 40)"
   ]
  },
  {
   "cell_type": "markdown",
   "id": "62032475",
   "metadata": {},
   "source": [
    "2. El usuario ingresa un año y trimestre, y en base a eso se informa el porcentaje de personas no nacidas en Argentina que cursaron al menos un nivel universitario o superior."
   ]
  },
  {
   "cell_type": "code",
   "execution_count": null,
   "id": "61ab404c",
   "metadata": {},
   "outputs": [],
   "source": [
    "from porcentaje_ext_uni import porcentaje_extranjeros_universitarios\n",
    "\n",
    "porcentaje_extranjeros_universitarios()"
   ]
  },
  {
   "cell_type": "markdown",
   "id": "cdbfdc11",
   "metadata": {},
   "source": [
    "3. Recorre todo el DataSet de Individuos y busca el año y trimestre con menor desocupación y retorna el porcentaje."
   ]
  },
  {
   "cell_type": "code",
   "execution_count": null,
   "id": "4855b1ca",
   "metadata": {},
   "outputs": [],
   "source": [
    "from menor_des import menor_des as ms\n",
    "\n",
    "ms()"
   ]
  },
  {
   "cell_type": "markdown",
   "id": "a1bf1367",
   "metadata": {},
   "source": [
    "4. Devuelve un Ranking de los 5 aglomerados con mayor porcentaje de hogares con dos o más ocupantes con estudios universitarios del ultimo par de archivos mas recientes"
   ]
  },
  {
   "cell_type": "code",
   "execution_count": null,
   "id": "350402b9",
   "metadata": {},
   "outputs": [],
   "source": [
    "from ranking5 import ranking_aglomerados_nivel_sup as ren \n",
    "\n",
    "resultados = ren()\n",
    "\n",
    "\n",
    "#Imprimo los resultados\n",
    "print('')\n",
    "print(\"Top 5 aglomerados por porcentaje de educación superior:\\n\")\n",
    "print(\"{:<15} {:<10} {:<15} {:<10}\".format('aglomerado', 'Total', 'Con Superior', 'Porcentaje'))\n",
    "print(\"-\"*55)\n",
    "\n",
    "for aglomerado, data in resultados.items():\n",
    "     print(\"{:<15} {:<10} {:<15} {:.2f}%\".format(\n",
    "          aglomerado,\n",
    "          data['Total'],\n",
    "          data['Tiene Superior'],\n",
    "          data['Porcentaje']\n",
    "     ))\n"
   ]
  },
  {
   "cell_type": "markdown",
   "id": "ace23390",
   "metadata": {},
   "source": [
    "5. Informa por cada aglomerado el porcentaje de ocupación por propietarios."
   ]
  },
  {
   "cell_type": "code",
   "execution_count": null,
   "id": "1a94a0ce",
   "metadata": {},
   "outputs": [],
   "source": [
    "#LLAMADO A LA FUNCION\n",
    "from calcular_porc_viviendas_prop import imprimir_viviendas_propias_por_aglomerado\n",
    "imprimir_viviendas_propias_por_aglomerado()"
   ]
  },
  {
   "cell_type": "markdown",
   "id": "f04cda25",
   "metadata": {},
   "source": [
    "6. Se informa el aglomerado con mayor cantidad de viviendas con más de dos ocupantes\n",
    "y sin baño"
   ]
  },
  {
   "cell_type": "code",
   "execution_count": null,
   "id": "49fb4472",
   "metadata": {},
   "outputs": [],
   "source": [
    "from aglomerados_sin_baños import filtrar_y_contar_viviendas_precarias\n",
    "filtrar_y_contar_viviendas_precarias()"
   ]
  },
  {
   "cell_type": "markdown",
   "id": "e76db0a0",
   "metadata": {},
   "source": [
    "7. Informa por aglomerado el porcentaje de personas que cursaron al menos un nivel universitario o superior."
   ]
  },
  {
   "cell_type": "code",
   "execution_count": null,
   "id": "6491e8d9",
   "metadata": {},
   "outputs": [],
   "source": [
    "from calcular_porc_por_aglomerado import porcentaje_universitarios_por_aglomerado, obtener_individuos\n",
    "\n",
    "individuos = obtener_individuos()\n",
    "\n",
    "porcentaje_universitarios_por_aglomerado(individuos)"
   ]
  },
  {
   "cell_type": "markdown",
   "id": "c4bcf109",
   "metadata": {},
   "source": [
    "8. Recorre el DataSet de Hogares y ordena en una lista de forma descendente las regiones por medio del porcentaje de inquilinos en cada una."
   ]
  },
  {
   "cell_type": "code",
   "execution_count": null,
   "id": "63dbf696",
   "metadata": {},
   "outputs": [],
   "source": [
    "from porcentaje_inqui import porcentaje_inqui as pi\n",
    "\n",
    "pi()"
   ]
  },
  {
   "cell_type": "markdown",
   "id": "40ae59ed",
   "metadata": {},
   "source": [
    "9. Imprime una tabla que contiene la cantidad de personas mayores de edad según su nivel de estudios alcanzados, en base a un aglomerado seleccionado"
   ]
  },
  {
   "cell_type": "code",
   "execution_count": null,
   "id": "0e673229",
   "metadata": {},
   "outputs": [],
   "source": [
    "import mayores_nivel_ed\n",
    "\n",
    "mayores_nivel_ed.planilla_mas18_con_aglomerado()"
   ]
  },
  {
   "cell_type": "markdown",
   "id": "cc30f916",
   "metadata": {},
   "source": [
    "10. Calculo para cada trimestre el porcentaje de personas mayores con secundario incompleto en los aglomerados que seleccionen.\n",
    "Se filtran los registros por edad y aglomerado y luego se agrupan por año y trimestre."
   ]
  },
  {
   "cell_type": "code",
   "execution_count": null,
   "id": "9a2ee060",
   "metadata": {},
   "outputs": [],
   "source": [
    "import mayores_sec_inc\n",
    "\n",
    "mayores_sec_inc.calc_sec_inc_trim()"
   ]
  },
  {
   "cell_type": "markdown",
   "id": "13007056",
   "metadata": {},
   "source": [
    "11. Al usuario se le pide que ingrese un año. Se busqua en el último trimestre almacenado\n",
    "del mencionado año, el aglomerado con mayor porcentaje de viviendas de “Material\n",
    "precario” y el aglomerado con menor porcentaje de viviendas de “Material precario”."
   ]
  },
  {
   "cell_type": "code",
   "execution_count": null,
   "id": "365794ff",
   "metadata": {},
   "outputs": [],
   "source": [
    "from consulta_materialprecario import precarious_percentage\n",
    "\n",
    "precarious_percentage()"
   ]
  },
  {
   "cell_type": "markdown",
   "id": "8c0b1b95",
   "metadata": {},
   "source": [
    "12. Informa el porcentaje por aglomerado de jubilados que vivien en una condicion de habitabilidad insuficiente, a partir de la informacion del ultimo trimestre que se almaceno."
   ]
  },
  {
   "cell_type": "code",
   "execution_count": null,
   "id": "0a8ed8a2",
   "metadata": {},
   "outputs": [],
   "source": [
    "from calcular_porc_por_aglomerado import porcentaje_jubilados_condicion_insuficiente\n",
    "\n",
    "\n",
    "porcentaje_jubilados_condicion_insuficiente(individuos)"
   ]
  },
  {
   "cell_type": "markdown",
   "id": "b26c0e72",
   "metadata": {},
   "source": [
    "13. A partir del año ingresado por teclado y el ultimo trimestre del mismo informa cuantas personas cursaron el nivel universitario o superior y que vivan en una vivienda con condicion de habitalida insuficiente."
   ]
  },
  {
   "cell_type": "code",
   "execution_count": null,
   "id": "c6a48b5b",
   "metadata": {},
   "outputs": [],
   "source": [
    "import hog_insu as hi\n",
    "\n",
    "importlib.reload(hi)\n",
    "\n",
    "hi.hog_insu()"
   ]
  }
 ],
 "metadata": {
  "kernelspec": {
   "display_name": "venv",
   "language": "python",
   "name": "python3"
  },
  "language_info": {
   "codemirror_mode": {
    "name": "ipython",
    "version": 3
   },
   "file_extension": ".py",
   "mimetype": "text/x-python",
   "name": "python",
   "nbconvert_exporter": "python",
   "pygments_lexer": "ipython3",
   "version": "3.12.3"
  }
 },
 "nbformat": 4,
 "nbformat_minor": 5
}
